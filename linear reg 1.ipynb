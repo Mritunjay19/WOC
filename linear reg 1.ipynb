{
 "cells": [
  {
   "cell_type": "code",
   "execution_count": 152,
   "metadata": {},
   "outputs": [],
   "source": [
    "import matplotlib.pyplot as plt\n",
    "import numpy as np\n",
    "import pandas as pd\n",
    "import random as rd\n",
    "import matplotlib.pyplot as plt\n",
    "\n",
    "#reading file\n",
    "f=pd.read_csv(\"F:\\WOC\\lin.csv\")"
   ]
  },
  {
   "cell_type": "code",
   "execution_count": 153,
   "metadata": {},
   "outputs": [],
   "source": [
    "#converting to array\n",
    "x=np.array(f.values)\n",
    "x=np.cast[float](x)\n",
    "[m,n]=np.shape(x)"
   ]
  },
  {
   "cell_type": "code",
   "execution_count": 155,
   "metadata": {},
   "outputs": [],
   "source": [
    "#normalisation\n",
    "\n",
    "mn=[]\n",
    "rg=[]\n",
    "for i in range(0,n-1):\n",
    "    mn=np.append(mn,np.mean(x[:,i]))\n",
    "    rg=np.append(rg,np.max(x[:,i])-np.min(x[:,i]))\n",
    "\n",
    "\n",
    "for i in range(0,m):\n",
    "    for j in range(0,n-1):\n",
    "        x[i,j]=(x[i,j]-mn[j])/rg[j]\n",
    "        "
   ]
  },
  {
   "cell_type": "code",
   "execution_count": 156,
   "metadata": {},
   "outputs": [],
   "source": [
    "\n",
    "#dividing in test and training case\n",
    "mt=int(m*0.7)\n",
    "x_train=x[:int(m*0.7),0:n-1]\n",
    "y_train=x[:int(m*0.7),n-1]\n",
    "x_test=x[int(m*0.7):m,0:n-1]\n",
    "y_test=x[int(m*0.7):m,n-1]\n",
    "y_train=y_train.reshape(int(m*0.7),1)"
   ]
  },
  {
   "cell_type": "code",
   "execution_count": 157,
   "metadata": {},
   "outputs": [],
   "source": [
    "#settting values of theta\n",
    "theta=[]\n",
    "J=[]\n",
    "t=np.arange(n-1)\n",
    "for i in range(0,n-1):\n",
    "    theta=np.append(theta,rd.randint(0,100))\n",
    "theta0=rd.randint(0,1000)\n",
    "theta=np.vstack(theta)\n",
    "\n",
    "#learning rate\n",
    "a=0.1\n",
    "\n"
   ]
  },
  {
   "cell_type": "code",
   "execution_count": 158,
   "metadata": {},
   "outputs": [],
   "source": [
    "#gradient descent\n",
    "for i in range(0,100):\n",
    "    h=theta0+np.dot(x_train,theta)-y_train\n",
    "    J=np.append(J,np.sum(h*h)/(2*mt))\n",
    "    t0=theta0-(a*sum(h)/mt)\n",
    "    for j in range(0,n-1):\n",
    "        xi=x_train[:,j]\n",
    "        xi=np.vstack(xi)\n",
    "        t[j]=theta[j]-(a*sum(h*xi)/mt)\n",
    "    #replacing values of theta\n",
    "    theta0=t0\n",
    "    for j in range(0,n-1):\n",
    "        theta[j]=t[j]"
   ]
  },
  {
   "cell_type": "code",
   "execution_count": 159,
   "metadata": {},
   "outputs": [
    {
     "data": {
      "text/plain": [
       "[<matplotlib.lines.Line2D at 0x9b07e10>]"
      ]
     },
     "execution_count": 159,
     "metadata": {},
     "output_type": "execute_result"
    },
    {
     "data": { 
      "image/png": "[encoded data removed]",
      "text/plain": [
       "<Figure size 432x288 with 1 Axes>"
      ]
     },
     "metadata": {
      "needs_background": "light"
     },
     "output_type": "display_data"
    }
   ],
   "source": [
    "i=np.arange(1,101)\n",
    "plt.plot(J,i)"
   ]
  },
  {
   "cell_type": "code",
   "execution_count": null,
   "metadata": {},
   "outputs": [],
   "source": []
  },
  {
   "cell_type": "code",
   "execution_count": null,
   "metadata": {},
   "outputs": [],
   "source": []
  }
 ],
 "metadata": {
  "kernelspec": {
   "display_name": "Python 2",
   "language": "python",
   "name": "python2"
  },
  "language_info": {
   "codemirror_mode": {
    "name": "ipython",
    "version": 2
   },
   "file_extension": ".py",
   "mimetype": "text/x-python",
   "name": "python",
   "nbconvert_exporter": "python",
   "pygments_lexer": "ipython2",
   "version": "2.7.15"
  }
 },
 "nbformat": 4,
 "nbformat_minor": 2
}
