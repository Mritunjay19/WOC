{
 "cells": [
  {
   "cell_type": "code",
   "execution_count": 1,
   "metadata": {},
   "outputs": [],
   "source": [
    "import numpy as np\n",
    "import pandas as pd\n",
    "import random as rd\n",
    "import matplotlib.pyplot as plt\n",
    "from sklearn.utils import shuffle"
   ]
  },
  {
   "cell_type": "code",
   "execution_count": 3,
   "metadata": {},
   "outputs": [
    {
     "name": "stdout",
     "output_type": "stream",
     "text": [
      "enter path \"F:\\\\WOC\\\\image1.csv\"\n",
      "enter no of units 3\n"
     ]
    }
   ],
   "source": [
    "#reading of data\n",
    "path=input(\"enter path \")\n",
    "f=pd.read_csv(path,header=-1)\n",
    "\n",
    "#shuffeling data\n",
    "x=shuffle(np.array(f))\n",
    "[m,n]=np.shape(x)\n",
    "\n",
    "#taking number of units\n",
    "units=input(\"enter no of units \")"
   ]
  },
  {
   "cell_type": "code",
   "execution_count": 4,
   "metadata": {},
   "outputs": [],
   "source": [
    "#assigning random values \n",
    "\n",
    "#values of theta for hidden layer\n",
    "theta1=[]\n",
    "for i in range(0,units):\n",
    "    theta1=np.append(theta1,np.array([rd.random()*10 for j in range(0,n)]))\n",
    "theta1=theta1.reshape(units,n)\n",
    "\n",
    "#values of theta for output unit\n",
    "theta=np.array([rd.random()*10 for i in range(0,units)])\n",
    "theta0=rd.random()*10\n",
    "theta=theta.reshape(1,units)"
   ]
  },
  {
   "cell_type": "code",
   "execution_count": 5,
   "metadata": {
    "scrolled": true
   },
   "outputs": [],
   "source": [
    "#normalising data\n",
    "x1=[]\n",
    "x1=np.append(x1,[1.0 for i in range(0,m)])\n",
    "for i in range(0,n-1):\n",
    "    x1=np.append(x1,(x[:,i]-np.mean(x[:,i]))/np.ptp(x[:,i]))\n",
    "x1=x1.reshape(n,m)\n",
    "\n",
    "y=x[:,n-1]-1\n",
    "\n",
    "#learning rate\n",
    "a=0.05\n"
   ]
  },
  {
   "cell_type": "code",
   "execution_count": 6,
   "metadata": {
    "scrolled": true
   },
   "outputs": [],
   "source": [
    "#applying forward propagation -> backpropagation ->gradient descent\n",
    "J=[]\n",
    "for i in range(0,400):\n",
    "    \n",
    "    #forward propagation\n",
    "    z1=theta0+np.dot(theta1,x1)\n",
    "    \n",
    "    a1=1/(1+np.exp(-z1))\n",
    "    \n",
    "    z=np.dot(theta,a1)\n",
    "    h=1/(1+np.exp(-z))\n",
    "    \n",
    "    #cost function \n",
    "    J=np.append(J,-(np.sum(y*np.log(h)+(1-y)*np.log(1-h)))/m)\n",
    "    \n",
    "    #applying backpropagation\n",
    "    del3=h-y\n",
    "    \n",
    "    delta=np.dot(np.dot(np.transpose(theta),del3)*a1*(1-a1),np.transpose(x1))\n",
    "    a_2=[1.0 for p in range(0,m)]\n",
    "    a_2=np.append(a_2,a1)\n",
    "    a_2=a_2.reshape(units+1,m)\n",
    "    delta2=np.dot(del3,np.transpose(a_2))\n",
    "    \n",
    "    delta=delta/m\n",
    "    delta2=delta2/m\n",
    "    \n",
    "    #updating values of theta\n",
    "    theta1=theta1-a*delta\n",
    "    theta0=theta0-a*delta2[0,0]\n",
    "    theta=theta-a*delta2[0,1:]\n",
    "   "
   ]
  },
  {
   "cell_type": "code",
   "execution_count": 7,
   "metadata": {},
   "outputs": [
    {
     "data": {
      "text/plain": [
       "[<matplotlib.lines.Line2D at 0x72a6d50>]"
      ]
     },
     "execution_count": 7,
     "metadata": {},
     "output_type": "execute_result"
    },
    {
     "data": {
      "image/png": "[encoded data removed]",
      "text/plain": [
       "<Figure size 432x288 with 1 Axes>"
      ]
     },
     "metadata": {
      "needs_background": "light"
     },
     "output_type": "display_data"
    }
   ],
   "source": [
    "plt.plot(J,np.arange(1,401))"
   ]
  },
  {
   "cell_type": "code",
   "execution_count": null,
   "metadata": {},
   "outputs": [],
   "source": []
  }
 ],
 "metadata": {
  "kernelspec": {
   "display_name": "Python 2",
   "language": "python",
   "name": "python2"
  },
  "language_info": {
   "codemirror_mode": {
    "name": "ipython",
    "version": 2
   },
   "file_extension": ".py",
   "mimetype": "text/x-python",
   "name": "python",
   "nbconvert_exporter": "python",
   "pygments_lexer": "ipython2",
   "version": "2.7.15"
  }
 },
 "nbformat": 4,
 "nbformat_minor": 2
}
