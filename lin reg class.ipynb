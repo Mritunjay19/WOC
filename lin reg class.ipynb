{
 "cells": [
  {
   "cell_type": "code",
   "execution_count": 164,
   "metadata": {},
   "outputs": [],
   "source": [
    "import matplotlib.pyplot as plt\n",
    "import numpy as np\n",
    "import pandas as pd\n",
    "import random as rd\n"
   ]
  },
  {
   "cell_type": "code",
   "execution_count": 165,
   "metadata": {},
   "outputs": [],
   "source": [
    "# declaring class\n",
    "class linreg:\n",
    "    def __init__(self,path):\n",
    "        f=pd.read_csv(path,header=-1)\n",
    "        x=np.array(f)\n",
    "        self.data=x*1.0"
   ]
  },
  {
   "cell_type": "code",
   "execution_count": 166,
   "metadata": {},
   "outputs": [
    {
     "ename": "IndentationError",
     "evalue": "unexpected indent (<ipython-input-166-4fdf8196c78d>, line 2)",
     "output_type": "error",
     "traceback": [
      "\u001b[1;36m  File \u001b[1;32m\"<ipython-input-166-4fdf8196c78d>\"\u001b[1;36m, line \u001b[1;32m2\u001b[0m\n\u001b[1;33m    def start_normalise(self):\u001b[0m\n\u001b[1;37m    ^\u001b[0m\n\u001b[1;31mIndentationError\u001b[0m\u001b[1;31m:\u001b[0m unexpected indent\n"
     ]
    }
   ],
   "source": [
    "#normalisation function & starting of linear regression\n",
    "    def start_normalise(self):\n",
    "        [m,n]=np.shape(self.data)\n",
    "        mn=[]\n",
    "        rg=[]\n",
    "        for i in range(0,n-1):\n",
    "            mn=np.append(mn,np.mean(self.data[:,i]))\n",
    "            rg=np.append(rg,np.max(self.data[:,i])-np.min(self.data[:,i]))\n",
    "        for i in range(0,m):\n",
    "            for j in range(0,n-1):\n",
    "                self.data[i,j]=(self.data[i,j]-mn[j])/rg[j]\n",
    "                \n",
    "        #calling next function\n",
    "        self.divide_data()"
   ]
  },
  {
   "cell_type": "code",
   "execution_count": null,
   "metadata": {},
   "outputs": [],
   "source": [
    "#adding one extra column with value =1\n",
    "    def divide_data(self):\n",
    "        [m,n]=np.shape(self.data)        \n",
    "        x=[]\n",
    "        for i in range(0,m):\n",
    "            x=np.append(x,1)\n",
    "            for j in range(0,n):\n",
    "                x=np.append(x,self.data[i,j])\n",
    "        x=x.reshape(m,n+1)   \n",
    "        \n",
    "        #calling next function\n",
    "        self.value_theta(x[:,0:n],x[:,n-1])"
   ]
  },
  {
   "cell_type": "code",
   "execution_count": null,
   "metadata": {},
   "outputs": [],
   "source": [
    "#setting random value for theta\n",
    "    \n",
    "    def value_theta(self,data,val):     \n",
    "        theta=[]\n",
    "        [m,n]=np.shape(data)\n",
    "        for i in range(0,n):\n",
    "            theta=np.append(theta,rd.randint(0,100))\n",
    "        theta=np.vstack(theta)\n",
    "        \n",
    "        #calling next function\n",
    "        self.grad_dec(data,theta,val)\n"
   ]
  },
  {
   "cell_type": "code",
   "execution_count": null,
   "metadata": {},
   "outputs": [],
   "source": [
    "#applying gradient descent    \n",
    "    \n",
    "    def grad_dec(self,data,theta,val):\n",
    "        a=0.1\n",
    "        J=[]\n",
    "        [m,n]=np.shape(data)\n",
    "        t=np.empty(n)\n",
    "        val=np.vstack(val)\n",
    "        for i in range(0,100):\n",
    "            h=np.dot(data,theta)-val\n",
    "            J=np.append(J,np.sum(h*h)/(2*m))\n",
    "            for j in range(0,n):\n",
    "                x=data[:,j]\n",
    "                x=np.vstack(x)\n",
    "                t[j]=theta[j]-(a*sum(h*x)/m)\n",
    "            for j in range(0,n-1):\n",
    "                theta[j]=t[j]\n",
    "        \n",
    "        # plotting graph\n",
    "        self.plot_J(J)\n",
    "        \n",
    "        #returnig final values of theta\n",
    "        return theta\n",
    "    "
   ]
  },
  {
   "cell_type": "code",
   "execution_count": 167,
   "metadata": {},
   "outputs": [
    {
     "ename": "IndentationError",
     "evalue": "unexpected indent (<ipython-input-167-7dcb4223d0be>, line 2)",
     "output_type": "error",
     "traceback": [
      "\u001b[1;36m  File \u001b[1;32m\"<ipython-input-167-7dcb4223d0be>\"\u001b[1;36m, line \u001b[1;32m2\u001b[0m\n\u001b[1;33m    def plot_J(self,J):\u001b[0m\n\u001b[1;37m    ^\u001b[0m\n\u001b[1;31mIndentationError\u001b[0m\u001b[1;31m:\u001b[0m unexpected indent\n"
     ]
    }
   ],
   "source": [
    "#graph plotting function \n",
    "    def plot_J(self,J):\n",
    "        i=np.arange(1,101)\n",
    "        plt.plot(i,J)"
   ]
  },
  {
   "cell_type": "code",
   "execution_count": null,
   "metadata": {},
   "outputs": [],
   "source": [
    "a=linreg(\"F:\\WOC\\lin.csv\")\n",
    "theta=a.start_normalise()\n",
    "print(theta)"
   ]
  }
 ],
 "metadata": {
  "kernelspec": {
   "display_name": "Python 2",
   "language": "python",
   "name": "python2"
  },
  "language_info": {
   "codemirror_mode": {
    "name": "ipython",
    "version": 2
   },
   "file_extension": ".py",
   "mimetype": "text/x-python",
   "name": "python",
   "nbconvert_exporter": "python",
   "pygments_lexer": "ipython2",
   "version": "2.7.15"
  }
 },
 "nbformat": 4,
 "nbformat_minor": 2
}
